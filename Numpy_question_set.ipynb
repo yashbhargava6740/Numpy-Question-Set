{
 "cells": [
  {
   "cell_type": "code",
   "execution_count": 1,
   "metadata": {},
   "outputs": [],
   "source": [
    "import numpy as np"
   ]
  },
  {
   "cell_type": "code",
   "execution_count": 3,
   "metadata": {},
   "outputs": [
    {
     "name": "stdout",
     "output_type": "stream",
     "text": [
      "[-10.  -8.   3.   2.   1.]\n"
     ]
    }
   ],
   "source": [
    "''' You are given a space separated list of numbers.\n",
    "Your task is to print a reversed Numpy array with the element type float.\n",
    "Input Format\n",
    "A single line of input containing space separated numbers.\n",
    "Output Format\n",
    "Print the reverse NumPy array with type float.'''\n",
    "\n",
    "arr = list(map(int,input(\"Enter Array:- \").split()))\n",
    "arr.reverse()\n",
    "out = np.array(arr,dtype = float)\n",
    "print(out)"
   ]
  },
  {
   "cell_type": "code",
   "execution_count": 4,
   "metadata": {},
   "outputs": [
    {
     "name": "stdout",
     "output_type": "stream",
     "text": [
      "[[1 2 3]\n",
      " [4 5 6]\n",
      " [7 8 9]]\n"
     ]
    }
   ],
   "source": [
    "'''You are given a space separated list of nine integers. Your task is to convert this list into 3x3 numpy array.\n",
    "Input Format\n",
    "A single line of input containing space separated integers.\n",
    "Output Format\n",
    "Print the 3x3 numpy array.'''\n",
    "\n",
    "arr = list(map(int,input().split()))\n",
    "arr = np.array(arr)\n",
    "arr = arr.reshape(3,3)\n",
    "print(arr)"
   ]
  },
  {
   "cell_type": "code",
   "execution_count": 7,
   "metadata": {},
   "outputs": [
    {
     "name": "stdout",
     "output_type": "stream",
     "text": [
      "[[1. 0. 0.]\n",
      " [0. 1. 0.]\n",
      " [0. 0. 1.]]\n"
     ]
    }
   ],
   "source": [
    "'''\n",
    "You are given a space separated list of nine integers. Your task is to convert this list into 3x3 numpy array.\n",
    "Input Format\n",
    "A single line of input containing space separated integers.\n",
    "Output Format\n",
    "Print the 3x3 numpy array.'''\n",
    "dim = list(map(int,input().split()))\n",
    "print(np.identity(dim[0]))"
   ]
  },
  {
   "cell_type": "code",
   "execution_count": null,
   "metadata": {},
   "outputs": [],
   "source": []
  }
 ],
 "metadata": {
  "interpreter": {
   "hash": "2304c4db69393362859353076d6494cd694620e92aede46d302e51d421ad7335"
  },
  "kernelspec": {
   "display_name": "Python 3.10.1 64-bit",
   "language": "python",
   "name": "python3"
  },
  "language_info": {
   "codemirror_mode": {
    "name": "ipython",
    "version": 3
   },
   "file_extension": ".py",
   "mimetype": "text/x-python",
   "name": "python",
   "nbconvert_exporter": "python",
   "pygments_lexer": "ipython3",
   "version": "3.10.1"
  },
  "orig_nbformat": 4
 },
 "nbformat": 4,
 "nbformat_minor": 2
}
