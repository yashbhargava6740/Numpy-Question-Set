{
 "cells": [
  {
   "cell_type": "code",
   "execution_count": 1,
   "metadata": {},
   "outputs": [],
   "source": [
    "import numpy as np"
   ]
  },
  {
   "cell_type": "code",
   "execution_count": 3,
   "metadata": {},
   "outputs": [
    {
     "name": "stdout",
     "output_type": "stream",
     "text": [
      "[-10.  -8.   3.   2.   1.]\n"
     ]
    }
   ],
   "source": [
    "''' You are given a space separated list of numbers.\n",
    "Your task is to print a reversed Numpy array with the element type float.\n",
    "Input Format\n",
    "A single line of input containing space separated numbers.\n",
    "Output Format\n",
    "Print the reverse NumPy array with type float.'''\n",
    "\n",
    "arr = list(map(int,input(\"Enter Array:- \").split()))\n",
    "arr.reverse()\n",
    "out = np.array(arr,dtype = float)\n",
    "print(out)"
   ]
  },
  {
   "cell_type": "code",
   "execution_count": 4,
   "metadata": {},
   "outputs": [
    {
     "name": "stdout",
     "output_type": "stream",
     "text": [
      "[[1 2 3]\n",
      " [4 5 6]\n",
      " [7 8 9]]\n"
     ]
    }
   ],
   "source": [
    "'''You are given a space separated list of nine integers. Your task is to convert this list into 3x3 numpy array.\n",
    "Input Format\n",
    "A single line of input containing space separated integers.\n",
    "Output Format\n",
    "Print the 3x3 numpy array.'''\n",
    "\n",
    "arr = list(map(int,input().split()))\n",
    "arr = np.array(arr)\n",
    "arr = arr.reshape(3,3)\n",
    "print(arr)"
   ]
  },
  {
   "cell_type": "code",
   "execution_count": 7,
   "metadata": {},
   "outputs": [
    {
     "name": "stdout",
     "output_type": "stream",
     "text": [
      "[[1. 0. 0.]\n",
      " [0. 1. 0.]\n",
      " [0. 0. 1.]]\n"
     ]
    }
   ],
   "source": [
    "'''\n",
    "You are given a space separated list of nine integers. Your task is to convert this list into 3x3 numpy array.\n",
    "Input Format\n",
    "A single line of input containing space separated integers.\n",
    "Output Format\n",
    "Print the 3x3 numpy array.'''\n",
    "dim = list(map(int,input().split()))\n",
    "print(np.identity(dim[0]))"
   ]
  },
  {
   "cell_type": "code",
   "execution_count": 16,
   "metadata": {},
   "outputs": [
    {
     "name": "stdout",
     "output_type": "stream",
     "text": [
      "[[1, 2, 3, 4]] [[5, 6, 7, 8]]\n",
      "ADD: [[ 6  8 10 12]]\n",
      "Subtract: [[-4 -4 -4 -4]]\n",
      "Multiply: [[ 5 12 21 32]]\n",
      "Floor_Divide: [[0 0 0 0]]\n",
      "Normal_Division: [[0.2        0.33333333 0.42857143 0.5       ]]\n",
      "Power: [[    1    64  2187 65536]]\n",
      "Float_Power: [[1.0000e+00 6.4000e+01 2.1870e+03 6.5536e+04]]\n"
     ]
    }
   ],
   "source": [
    "'''\n",
    "Input Format\n",
    "The first line contains two space separated integers, N and M.\n",
    "The next N lines contains M space separated integers of array A.\n",
    "The following N lines contains M space separated integers of array B.\n",
    "Output Format\n",
    "Print the result of each operation in the given order under Task\n",
    "'''\n",
    "s_e = list(map(int,input().split()))\n",
    "m1 = []\n",
    "m2 = []\n",
    "for i in range(s_e[0]):\n",
    "    m1.append(list(map(int,input().split())))\n",
    "    m2.append(list(map(int,input().split())))\n",
    "print(m1,m2)\n",
    "out1 = np.array(m1)\n",
    "out2 = np.array(m2)\n",
    "ad = np.add(out1,out2)\n",
    "sub = np.subtract(out1,out2)\n",
    "mul = np.multiply(out1,out2)\n",
    "floor_div = np.floor_divide(out1,out2)\n",
    "norm_div = np.divide(out1,out2)\n",
    "\"mod_div = np.divmod(out,out2)\"\n",
    "powe = np.power(out1, out2)\n",
    "powe1 = np.float_power(out1,out2)\n",
    "print(f\"ADD: {ad}\\nSubtract: {sub}\\nMultiply: {mul}\\nFloor_Divide: {floor_div}\\nNormal_Division: {norm_div}\\nPower: {powe}\\nFloat_Power: {powe1}\")"
   ]
  }
 ],
 "metadata": {
  "interpreter": {
   "hash": "2304c4db69393362859353076d6494cd694620e92aede46d302e51d421ad7335"
  },
  "kernelspec": {
   "display_name": "Python 3.10.1 64-bit",
   "language": "python",
   "name": "python3"
  },
  "language_info": {
   "codemirror_mode": {
    "name": "ipython",
    "version": 3
   },
   "file_extension": ".py",
   "mimetype": "text/x-python",
   "name": "python",
   "nbconvert_exporter": "python",
   "pygments_lexer": "ipython3",
   "version": "3.10.1"
  },
  "orig_nbformat": 4
 },
 "nbformat": 4,
 "nbformat_minor": 2
}
